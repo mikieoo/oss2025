{
  "nbformat": 4,
  "nbformat_minor": 0,
  "metadata": {
    "colab": {
      "provenance": [],
      "authorship_tag": "ABX9TyN4quUhMxPBW1CARDuBzqAj",
      "include_colab_link": true
    },
    "kernelspec": {
      "name": "python3",
      "display_name": "Python 3"
    },
    "language_info": {
      "name": "python"
    }
  },
  "cells": [
    {
      "cell_type": "markdown",
      "metadata": {
        "id": "view-in-github",
        "colab_type": "text"
      },
      "source": [
        "<a href=\"https://colab.research.google.com/github/mikieoo/oss2025/blob/main/%EC%82%BC%EA%B0%81%ED%98%95_%ED%8C%90%EB%8B%A8%ED%95%98%EA%B8%B0_%ED%94%84%EB%A1%9C%EA%B7%B8%EB%9E%A8.ipynb\" target=\"_parent\"><img src=\"https://colab.research.google.com/assets/colab-badge.svg\" alt=\"Open In Colab\"/></a>"
      ]
    },
    {
      "cell_type": "markdown",
      "source": [
        "# 삼각형 판단하기\n"
      ],
      "metadata": {
        "id": "CHHh3828xkSw"
      }
    },
    {
      "cell_type": "markdown",
      "source": [
        "## 정삼각형\n",
        "본 수업에서는 **삼각형의 세변의 길이**를 받아서 어떠한 삼각형인지를 알려주는 프로그램을 개발합니다. 제안하는 프로그램은 사용자로부터 3개의 입력을 받습니다.\n",
        "\n",
        "$a = b = c$ 정삼각형 🔺\n",
        "\n",
        "### 삼\n",
        "#### 각\n",
        "##### 형\n"
      ],
      "metadata": {
        "id": "97xrX2o5y2HV"
      }
    },
    {
      "cell_type": "code",
      "source": [
        "# @title Example form fields\n",
        "# @markdown Forms support many types of fields.\n",
        "\n",
        "\n",
        "a = 102  # @param {type: \"number\"}\n",
        "b = 25  # @param {type: \"number\"}\n",
        "c = 10  # @param {type: \"number\"}\n",
        "date = '2025-03-17'  # @param {type: \"date\"}\n",
        "pick_me = \"monday\"  # @param ['monday', 'tuesday', 'wednesday', 'thursday']\n",
        "select_or_input = \"apples\" # @param [\"apples\", \"bananas\", \"oranges\"] {allow-input: true}\n",
        "# @markdown ---"
      ],
      "metadata": {
        "id": "QXad0rYrzsRt"
      },
      "execution_count": 16,
      "outputs": []
    },
    {
      "cell_type": "code",
      "source": [
        "if a == b == c:\n",
        "  print(\"정삼각형\")\n",
        "else:\n",
        "  print(\"정삼각형 아님\")"
      ],
      "metadata": {
        "colab": {
          "base_uri": "https://localhost:8080/"
        },
        "id": "6-0LdjUpyOvg",
        "outputId": "ab30afa6-1695-4fc0-ccd9-9e0e8288ca52"
      },
      "execution_count": 17,
      "outputs": [
        {
          "output_type": "stream",
          "name": "stdout",
          "text": [
            "정삼각형 아님\n"
          ]
        }
      ]
    }
  ]
}